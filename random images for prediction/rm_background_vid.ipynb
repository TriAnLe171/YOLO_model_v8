{
 "cells": [
  {
   "cell_type": "code",
   "execution_count": 2,
   "metadata": {},
   "outputs": [],
   "source": [
    "import rembg\n",
    "import cv2\n",
    "import os"
   ]
  },
  {
   "cell_type": "code",
   "execution_count": 3,
   "metadata": {},
   "outputs": [],
   "source": [
    "in_path='video1.mp4'\n",
    "vid = cv2.VideoCapture(in_path)"
   ]
  },
  {
   "cell_type": "code",
   "execution_count": null,
   "metadata": {},
   "outputs": [],
   "source": [
    "# Create a directory to save the output video if it doesn't exist\n",
    "output_dir = 'output_videos'\n",
    "os.makedirs(output_dir, exist_ok=True)\n",
    "output_filename = 'output_vid.mp4'\n",
    "output_path = os.path.join(output_dir, output_filename)\n",
    "\n",
    "fps = vid.get(cv2.CAP_PROP_FPS)\n",
    "frame_w=int(vid.get(cv2.CAP_PROP_FRAME_WIDTH))\n",
    "frame_h=int(vid.get(cv2.CAP_PROP_FRAME_HEIGHT))\n",
    "\n",
    "# Define the codec and create VideoWriter object\n",
    "fourcc = cv2.VideoWriter_fourcc(*'mp4v')\n",
    "out = cv2.VideoWriter(output_path, fourcc, fps, (frame_w, frame_h))\n",
    "\n",
    "while vid.isOpened():\n",
    "    ret,frame=vid.read()\n",
    "    # Convert the frame from BGR to RGB (rembg expects RGB format)\n",
    "    frame_rgb = cv2.cvtColor(frame, cv2.COLOR_BGR2RGB)\n",
    "\n",
    "    # Call rembg.remove with the RGB frame\n",
    "    frame_removed = rembg.remove(frame_rgb)\n",
    "\n",
    "    # Convert the result back to BGR (to match OpenCV's format)\n",
    "    frame_bgr = cv2.cvtColor(frame_removed, cv2.COLOR_RGB2BGR)\n",
    "\n",
    "    # Write the processed frame to the output video\n",
    "    out.write(frame_bgr)\n",
    "\n",
    "    cv2.imshow('Processed Frame', frame_bgr)\n",
    "\n",
    "    if cv2.waitKey(1) & 0xFF == 27:  # Press 'Esc' to exit\n",
    "        break\n",
    "\n",
    "# Release video capture and writer objects\n",
    "vid.release()\n",
    "out.release()\n",
    "cv2.destroyAllWindows()\n",
    "\n"
   ]
  }
 ],
 "metadata": {
  "kernelspec": {
   "display_name": "Python 3",
   "language": "python",
   "name": "python3"
  },
  "language_info": {
   "codemirror_mode": {
    "name": "ipython",
    "version": 3
   },
   "file_extension": ".py",
   "mimetype": "text/x-python",
   "name": "python",
   "nbconvert_exporter": "python",
   "pygments_lexer": "ipython3",
   "version": "3.11.4"
  },
  "orig_nbformat": 4
 },
 "nbformat": 4,
 "nbformat_minor": 2
}
